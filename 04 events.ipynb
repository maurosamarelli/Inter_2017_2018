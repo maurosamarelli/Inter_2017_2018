{
 "cells": [
  {
   "cell_type": "markdown",
   "metadata": {
    "colab_type": "text",
    "id": "tRfrkIOiOHZF"
   },
   "source": [
    "# Wyscout Data for Inter 2017-2018\n",
    "\n",
    "In this notebooks we will learn to work with [Wyscout](https://wyscout.com/) data and to extract useful information for the tactical point of view.\n",
    "\n",
    "For this course we will use che [Player Rank](https://github.com/mesosbrodleto/playerank) open source project owned by Pappalardo Luca, Cintia Paolo & Co."
   ]
  },
  {
   "cell_type": "markdown",
   "metadata": {
    "colab_type": "text",
    "id": "WApdiBe36HUl"
   },
   "source": [
    "## utilities"
   ]
  },
  {
   "cell_type": "code",
   "execution_count": 18,
   "metadata": {},
   "outputs": [],
   "source": [
    "import os\n",
    "import numpy as np\n",
    "import pandas as pd\n",
    "import matplotlib.pyplot as plt\n",
    "from pandas.io.json import json_normalize\n",
    "import util\n",
    "path = \"C:/Users/Mauro/OneDrive/Documenti/Football/playerank-master\"\n",
    "inter_id = 3161"
   ]
  },
  {
   "cell_type": "markdown",
   "metadata": {
    "colab_type": "text",
    "id": "X4mKwn-G8KUJ"
   },
   "source": [
    "### events"
   ]
  },
  {
   "cell_type": "markdown",
   "metadata": {},
   "source": [
    "**GET ALL THE SERIE A MATCH EVENTS** "
   ]
  },
  {
   "cell_type": "code",
   "execution_count": 19,
   "metadata": {},
   "outputs": [
    {
     "data": {
      "text/html": [
       "<div>\n",
       "<style scoped>\n",
       "    .dataframe tbody tr th:only-of-type {\n",
       "        vertical-align: middle;\n",
       "    }\n",
       "\n",
       "    .dataframe tbody tr th {\n",
       "        vertical-align: top;\n",
       "    }\n",
       "\n",
       "    .dataframe thead th {\n",
       "        text-align: right;\n",
       "    }\n",
       "</style>\n",
       "<table border=\"1\" class=\"dataframe\">\n",
       "  <thead>\n",
       "    <tr style=\"text-align: right;\">\n",
       "      <th></th>\n",
       "      <th>eventId</th>\n",
       "      <th>eventName</th>\n",
       "      <th>eventSec</th>\n",
       "      <th>id</th>\n",
       "      <th>matchId</th>\n",
       "      <th>matchPeriod</th>\n",
       "      <th>playerId</th>\n",
       "      <th>positions</th>\n",
       "      <th>subEventId</th>\n",
       "      <th>subEventName</th>\n",
       "      <th>tags</th>\n",
       "      <th>teamId</th>\n",
       "    </tr>\n",
       "  </thead>\n",
       "  <tbody>\n",
       "    <tr>\n",
       "      <th>0</th>\n",
       "      <td>8</td>\n",
       "      <td>Pass</td>\n",
       "      <td>2.530536</td>\n",
       "      <td>180423957</td>\n",
       "      <td>2575959</td>\n",
       "      <td>1H</td>\n",
       "      <td>8327</td>\n",
       "      <td>[{'y': 52, 'x': 49}, {'y': 44, 'x': 43}]</td>\n",
       "      <td>85</td>\n",
       "      <td>Simple pass</td>\n",
       "      <td>[{'id': 1801}]</td>\n",
       "      <td>3158</td>\n",
       "    </tr>\n",
       "    <tr>\n",
       "      <th>1</th>\n",
       "      <td>8</td>\n",
       "      <td>Pass</td>\n",
       "      <td>3.768418</td>\n",
       "      <td>180423958</td>\n",
       "      <td>2575959</td>\n",
       "      <td>1H</td>\n",
       "      <td>20438</td>\n",
       "      <td>[{'y': 44, 'x': 43}, {'y': 17, 'x': 36}]</td>\n",
       "      <td>85</td>\n",
       "      <td>Simple pass</td>\n",
       "      <td>[{'id': 1801}]</td>\n",
       "      <td>3158</td>\n",
       "    </tr>\n",
       "    <tr>\n",
       "      <th>2</th>\n",
       "      <td>7</td>\n",
       "      <td>Others on the ball</td>\n",
       "      <td>4.868265</td>\n",
       "      <td>180423959</td>\n",
       "      <td>2575959</td>\n",
       "      <td>1H</td>\n",
       "      <td>8306</td>\n",
       "      <td>[{'y': 17, 'x': 36}, {'y': 56, 'x': 78}]</td>\n",
       "      <td>72</td>\n",
       "      <td>Touch</td>\n",
       "      <td>[]</td>\n",
       "      <td>3158</td>\n",
       "    </tr>\n",
       "  </tbody>\n",
       "</table>\n",
       "</div>"
      ],
      "text/plain": [
       "   eventId           eventName  eventSec         id  matchId matchPeriod  \\\n",
       "0        8                Pass  2.530536  180423957  2575959          1H   \n",
       "1        8                Pass  3.768418  180423958  2575959          1H   \n",
       "2        7  Others on the ball  4.868265  180423959  2575959          1H   \n",
       "\n",
       "   playerId                                 positions subEventId subEventName  \\\n",
       "0      8327  [{'y': 52, 'x': 49}, {'y': 44, 'x': 43}]         85  Simple pass   \n",
       "1     20438  [{'y': 44, 'x': 43}, {'y': 17, 'x': 36}]         85  Simple pass   \n",
       "2      8306  [{'y': 17, 'x': 36}, {'y': 56, 'x': 78}]         72        Touch   \n",
       "\n",
       "             tags  teamId  \n",
       "0  [{'id': 1801}]    3158  \n",
       "1  [{'id': 1801}]    3158  \n",
       "2              []    3158  "
      ]
     },
     "execution_count": 19,
     "metadata": {},
     "output_type": "execute_result"
    }
   ],
   "source": [
    "events = pd.read_json(os.path.join(path, 'data/events/events_Italy.json'))\n",
    "len(events)\n",
    "events.head(3)"
   ]
  },
  {
   "cell_type": "markdown",
   "metadata": {},
   "source": [
    "**GET ALL THE INTER MATCH EVENTS**"
   ]
  },
  {
   "cell_type": "code",
   "execution_count": 22,
   "metadata": {},
   "outputs": [
    {
     "data": {
      "text/html": [
       "<div>\n",
       "<style scoped>\n",
       "    .dataframe tbody tr th:only-of-type {\n",
       "        vertical-align: middle;\n",
       "    }\n",
       "\n",
       "    .dataframe tbody tr th {\n",
       "        vertical-align: top;\n",
       "    }\n",
       "\n",
       "    .dataframe thead th {\n",
       "        text-align: right;\n",
       "    }\n",
       "</style>\n",
       "<table border=\"1\" class=\"dataframe\">\n",
       "  <thead>\n",
       "    <tr style=\"text-align: right;\">\n",
       "      <th></th>\n",
       "      <th>eventId</th>\n",
       "      <th>eventName</th>\n",
       "      <th>eventSec</th>\n",
       "      <th>id</th>\n",
       "      <th>matchId</th>\n",
       "      <th>matchPeriod</th>\n",
       "      <th>playerId</th>\n",
       "      <th>positions</th>\n",
       "      <th>subEventId</th>\n",
       "      <th>subEventName</th>\n",
       "      <th>tags</th>\n",
       "      <th>teamId</th>\n",
       "    </tr>\n",
       "  </thead>\n",
       "  <tbody>\n",
       "    <tr>\n",
       "      <th>6313</th>\n",
       "      <td>8</td>\n",
       "      <td>Pass</td>\n",
       "      <td>0.924246</td>\n",
       "      <td>180460660</td>\n",
       "      <td>2575963</td>\n",
       "      <td>1H</td>\n",
       "      <td>269152</td>\n",
       "      <td>[{'y': 50, 'x': 52}, {'y': 47, 'x': 34}]</td>\n",
       "      <td>85</td>\n",
       "      <td>Simple pass</td>\n",
       "      <td>[{'id': 1801}]</td>\n",
       "      <td>3176</td>\n",
       "    </tr>\n",
       "    <tr>\n",
       "      <th>6314</th>\n",
       "      <td>8</td>\n",
       "      <td>Pass</td>\n",
       "      <td>1.679327</td>\n",
       "      <td>180458825</td>\n",
       "      <td>2575963</td>\n",
       "      <td>1H</td>\n",
       "      <td>26518</td>\n",
       "      <td>[{'y': 47, 'x': 34}, {'y': 48, 'x': 30}]</td>\n",
       "      <td>85</td>\n",
       "      <td>Simple pass</td>\n",
       "      <td>[{'id': 1801}]</td>\n",
       "      <td>3176</td>\n",
       "    </tr>\n",
       "    <tr>\n",
       "      <th>6315</th>\n",
       "      <td>8</td>\n",
       "      <td>Pass</td>\n",
       "      <td>2.980452</td>\n",
       "      <td>180458841</td>\n",
       "      <td>2575963</td>\n",
       "      <td>1H</td>\n",
       "      <td>20866</td>\n",
       "      <td>[{'y': 48, 'x': 30}, {'y': 88, 'x': 76}]</td>\n",
       "      <td>83</td>\n",
       "      <td>High pass</td>\n",
       "      <td>[{'id': 1801}]</td>\n",
       "      <td>3176</td>\n",
       "    </tr>\n",
       "  </tbody>\n",
       "</table>\n",
       "</div>"
      ],
      "text/plain": [
       "      eventId eventName  eventSec         id  matchId matchPeriod  playerId  \\\n",
       "6313        8      Pass  0.924246  180460660  2575963          1H    269152   \n",
       "6314        8      Pass  1.679327  180458825  2575963          1H     26518   \n",
       "6315        8      Pass  2.980452  180458841  2575963          1H     20866   \n",
       "\n",
       "                                     positions subEventId subEventName  \\\n",
       "6313  [{'y': 50, 'x': 52}, {'y': 47, 'x': 34}]         85  Simple pass   \n",
       "6314  [{'y': 47, 'x': 34}, {'y': 48, 'x': 30}]         85  Simple pass   \n",
       "6315  [{'y': 48, 'x': 30}, {'y': 88, 'x': 76}]         83    High pass   \n",
       "\n",
       "                tags  teamId  \n",
       "6313  [{'id': 1801}]    3176  \n",
       "6314  [{'id': 1801}]    3176  \n",
       "6315  [{'id': 1801}]    3176  "
      ]
     },
     "execution_count": 22,
     "metadata": {},
     "output_type": "execute_result"
    }
   ],
   "source": [
    "path = \"C:/Users/Mauro/OneDrive/Documenti/Football/Inter_2017_2018\"\n",
    "inter_matches = pd.read_csv(os.path.join(path, \"inter_matches.csv\"))\n",
    "inter_matches_events = events.query(\"matchId in \" + str(list(inter_matches.wyId)))\n",
    "inter_matches_events.head(3)"
   ]
  },
  {
   "cell_type": "markdown",
   "metadata": {},
   "source": [
    "**NORMALIZE EVENTS LOCATION**"
   ]
  },
  {
   "cell_type": "code",
   "execution_count": 24,
   "metadata": {},
   "outputs": [
    {
     "data": {
      "text/html": [
       "<div>\n",
       "<style scoped>\n",
       "    .dataframe tbody tr th:only-of-type {\n",
       "        vertical-align: middle;\n",
       "    }\n",
       "\n",
       "    .dataframe tbody tr th {\n",
       "        vertical-align: top;\n",
       "    }\n",
       "\n",
       "    .dataframe thead th {\n",
       "        text-align: right;\n",
       "    }\n",
       "</style>\n",
       "<table border=\"1\" class=\"dataframe\">\n",
       "  <thead>\n",
       "    <tr style=\"text-align: right;\">\n",
       "      <th></th>\n",
       "      <th>eventId</th>\n",
       "      <th>eventName</th>\n",
       "      <th>eventSec</th>\n",
       "      <th>id</th>\n",
       "      <th>matchId</th>\n",
       "      <th>matchPeriod</th>\n",
       "      <th>playerId</th>\n",
       "      <th>subEventId</th>\n",
       "      <th>subEventName</th>\n",
       "      <th>tags</th>\n",
       "      <th>teamId</th>\n",
       "      <th>x_start</th>\n",
       "      <th>y_start</th>\n",
       "      <th>x_end</th>\n",
       "      <th>y_end</th>\n",
       "    </tr>\n",
       "  </thead>\n",
       "  <tbody>\n",
       "    <tr>\n",
       "      <th>0</th>\n",
       "      <td>8</td>\n",
       "      <td>Pass</td>\n",
       "      <td>0.924246</td>\n",
       "      <td>180460660</td>\n",
       "      <td>2575963</td>\n",
       "      <td>1H</td>\n",
       "      <td>269152</td>\n",
       "      <td>85</td>\n",
       "      <td>Simple pass</td>\n",
       "      <td>[{'id': 1801}]</td>\n",
       "      <td>3176</td>\n",
       "      <td>52</td>\n",
       "      <td>50</td>\n",
       "      <td>34</td>\n",
       "      <td>47</td>\n",
       "    </tr>\n",
       "    <tr>\n",
       "      <th>1</th>\n",
       "      <td>8</td>\n",
       "      <td>Pass</td>\n",
       "      <td>1.679327</td>\n",
       "      <td>180458825</td>\n",
       "      <td>2575963</td>\n",
       "      <td>1H</td>\n",
       "      <td>26518</td>\n",
       "      <td>85</td>\n",
       "      <td>Simple pass</td>\n",
       "      <td>[{'id': 1801}]</td>\n",
       "      <td>3176</td>\n",
       "      <td>34</td>\n",
       "      <td>47</td>\n",
       "      <td>30</td>\n",
       "      <td>48</td>\n",
       "    </tr>\n",
       "    <tr>\n",
       "      <th>2</th>\n",
       "      <td>8</td>\n",
       "      <td>Pass</td>\n",
       "      <td>2.980452</td>\n",
       "      <td>180458841</td>\n",
       "      <td>2575963</td>\n",
       "      <td>1H</td>\n",
       "      <td>20866</td>\n",
       "      <td>83</td>\n",
       "      <td>High pass</td>\n",
       "      <td>[{'id': 1801}]</td>\n",
       "      <td>3176</td>\n",
       "      <td>30</td>\n",
       "      <td>48</td>\n",
       "      <td>76</td>\n",
       "      <td>88</td>\n",
       "    </tr>\n",
       "  </tbody>\n",
       "</table>\n",
       "</div>"
      ],
      "text/plain": [
       "   eventId eventName  eventSec         id  matchId matchPeriod  playerId  \\\n",
       "0        8      Pass  0.924246  180460660  2575963          1H    269152   \n",
       "1        8      Pass  1.679327  180458825  2575963          1H     26518   \n",
       "2        8      Pass  2.980452  180458841  2575963          1H     20866   \n",
       "\n",
       "  subEventId subEventName            tags  teamId  x_start  y_start x_end  \\\n",
       "0         85  Simple pass  [{'id': 1801}]    3176       52       50    34   \n",
       "1         85  Simple pass  [{'id': 1801}]    3176       34       47    30   \n",
       "2         83    High pass  [{'id': 1801}]    3176       30       48    76   \n",
       "\n",
       "  y_end  \n",
       "0    47  \n",
       "1    48  \n",
       "2    88  "
      ]
     },
     "execution_count": 24,
     "metadata": {},
     "output_type": "execute_result"
    }
   ],
   "source": [
    "inter_matches_events = util.get_event_locations(inter_matches_events, \"positions\")\n",
    "inter_matches_events.head(3)"
   ]
  },
  {
   "cell_type": "markdown",
   "metadata": {},
   "source": [
    "**NORMALIZE EVENTS TAGS**"
   ]
  },
  {
   "cell_type": "code",
   "execution_count": 26,
   "metadata": {},
   "outputs": [
    {
     "data": {
      "text/html": [
       "<div>\n",
       "<style scoped>\n",
       "    .dataframe tbody tr th:only-of-type {\n",
       "        vertical-align: middle;\n",
       "    }\n",
       "\n",
       "    .dataframe tbody tr th {\n",
       "        vertical-align: top;\n",
       "    }\n",
       "\n",
       "    .dataframe thead th {\n",
       "        text-align: right;\n",
       "    }\n",
       "</style>\n",
       "<table border=\"1\" class=\"dataframe\">\n",
       "  <thead>\n",
       "    <tr style=\"text-align: right;\">\n",
       "      <th></th>\n",
       "      <th>eventId</th>\n",
       "      <th>eventName</th>\n",
       "      <th>eventSec</th>\n",
       "      <th>id</th>\n",
       "      <th>matchId</th>\n",
       "      <th>matchPeriod</th>\n",
       "      <th>playerId</th>\n",
       "      <th>subEventId</th>\n",
       "      <th>subEventName</th>\n",
       "      <th>teamId</th>\n",
       "      <th>x_start</th>\n",
       "      <th>y_start</th>\n",
       "      <th>x_end</th>\n",
       "      <th>y_end</th>\n",
       "      <th>tags</th>\n",
       "    </tr>\n",
       "  </thead>\n",
       "  <tbody>\n",
       "    <tr>\n",
       "      <th>0</th>\n",
       "      <td>8</td>\n",
       "      <td>Pass</td>\n",
       "      <td>0.924246</td>\n",
       "      <td>180460660</td>\n",
       "      <td>2575963</td>\n",
       "      <td>1H</td>\n",
       "      <td>269152</td>\n",
       "      <td>85</td>\n",
       "      <td>Simple pass</td>\n",
       "      <td>3176</td>\n",
       "      <td>52</td>\n",
       "      <td>50</td>\n",
       "      <td>34</td>\n",
       "      <td>47</td>\n",
       "      <td>[1801]</td>\n",
       "    </tr>\n",
       "    <tr>\n",
       "      <th>1</th>\n",
       "      <td>8</td>\n",
       "      <td>Pass</td>\n",
       "      <td>1.679327</td>\n",
       "      <td>180458825</td>\n",
       "      <td>2575963</td>\n",
       "      <td>1H</td>\n",
       "      <td>26518</td>\n",
       "      <td>85</td>\n",
       "      <td>Simple pass</td>\n",
       "      <td>3176</td>\n",
       "      <td>34</td>\n",
       "      <td>47</td>\n",
       "      <td>30</td>\n",
       "      <td>48</td>\n",
       "      <td>[1801]</td>\n",
       "    </tr>\n",
       "    <tr>\n",
       "      <th>2</th>\n",
       "      <td>8</td>\n",
       "      <td>Pass</td>\n",
       "      <td>2.980452</td>\n",
       "      <td>180458841</td>\n",
       "      <td>2575963</td>\n",
       "      <td>1H</td>\n",
       "      <td>20866</td>\n",
       "      <td>83</td>\n",
       "      <td>High pass</td>\n",
       "      <td>3176</td>\n",
       "      <td>30</td>\n",
       "      <td>48</td>\n",
       "      <td>76</td>\n",
       "      <td>88</td>\n",
       "      <td>[1801]</td>\n",
       "    </tr>\n",
       "  </tbody>\n",
       "</table>\n",
       "</div>"
      ],
      "text/plain": [
       "   eventId eventName  eventSec         id  matchId matchPeriod  playerId  \\\n",
       "0        8      Pass  0.924246  180460660  2575963          1H    269152   \n",
       "1        8      Pass  1.679327  180458825  2575963          1H     26518   \n",
       "2        8      Pass  2.980452  180458841  2575963          1H     20866   \n",
       "\n",
       "  subEventId subEventName  teamId  x_start  y_start x_end y_end    tags  \n",
       "0         85  Simple pass    3176       52       50    34    47  [1801]  \n",
       "1         85  Simple pass    3176       34       47    30    48  [1801]  \n",
       "2         83    High pass    3176       30       48    76    88  [1801]  "
      ]
     },
     "execution_count": 26,
     "metadata": {},
     "output_type": "execute_result"
    }
   ],
   "source": [
    "inter_matches_events = util.get_event_tags(inter_matches_events, \"tags\")\n",
    "inter_matches_events.head(3)"
   ]
  },
  {
   "cell_type": "markdown",
   "metadata": {},
   "source": [
    "**GET GOALS ABOUT DERBY AT HOME**"
   ]
  },
  {
   "cell_type": "code",
   "execution_count": 31,
   "metadata": {},
   "outputs": [
    {
     "data": {
      "text/html": [
       "<div>\n",
       "<style scoped>\n",
       "    .dataframe tbody tr th:only-of-type {\n",
       "        vertical-align: middle;\n",
       "    }\n",
       "\n",
       "    .dataframe tbody tr th {\n",
       "        vertical-align: top;\n",
       "    }\n",
       "\n",
       "    .dataframe thead th {\n",
       "        text-align: right;\n",
       "    }\n",
       "</style>\n",
       "<table border=\"1\" class=\"dataframe\">\n",
       "  <thead>\n",
       "    <tr style=\"text-align: right;\">\n",
       "      <th></th>\n",
       "      <th>playerId</th>\n",
       "      <th>shortName</th>\n",
       "    </tr>\n",
       "  </thead>\n",
       "  <tbody>\n",
       "    <tr>\n",
       "      <th>0</th>\n",
       "      <td>206314</td>\n",
       "      <td>M. Icardi</td>\n",
       "    </tr>\n",
       "    <tr>\n",
       "      <th>1</th>\n",
       "      <td>206314</td>\n",
       "      <td>M. Icardi</td>\n",
       "    </tr>\n",
       "    <tr>\n",
       "      <th>2</th>\n",
       "      <td>206314</td>\n",
       "      <td>M. Icardi</td>\n",
       "    </tr>\n",
       "  </tbody>\n",
       "</table>\n",
       "</div>"
      ],
      "text/plain": [
       "   playerId  shortName\n",
       "0    206314  M. Icardi\n",
       "1    206314  M. Icardi\n",
       "2    206314  M. Icardi"
      ]
     },
     "execution_count": 31,
     "metadata": {},
     "output_type": "execute_result"
    }
   ],
   "source": [
    "match_id = inter_matches[inter_matches.label.str.contains(\" - Milan\")].wyId.iloc[0]\n",
    "derby_events = inter_matches_events.query(\"matchId == \" + str(match_id))\n",
    "id_goals = []\n",
    "for i in range(len(derby_events)):\n",
    "    event = derby_events.iloc[i]\n",
    "    if event.teamId == inter_id and 101 in event.tags and event.subEventName in ['Shot', 'Penalty']:\n",
    "        id_goals.append(i)\n",
    "derby_goals = derby_events.iloc[id_goals]\n",
    "inter_players = pd.read_csv(os.path.join(path, \"inter_players.csv\"))\n",
    "pd.merge(derby_goals, inter_players, how=\"inner\", left_on=\"playerId\", right_on=\"wyId\")[['playerId', 'shortName']]"
   ]
  },
  {
   "cell_type": "markdown",
   "metadata": {},
   "source": [
    "**EXPLORE DATA ABOUT INTER MATCH EVENTS**"
   ]
  },
  {
   "cell_type": "code",
   "execution_count": 35,
   "metadata": {},
   "outputs": [
    {
     "name": "stdout",
     "output_type": "stream",
     "text": [
      "In Inter-Juventus there are 790 events associated to Inter\n",
      "In Inter-Juventus there are 849 events associated to Juventus\n"
     ]
    }
   ],
   "source": [
    "match_id = inter_matches[inter_matches.label.str.contains(\" - Juventus\")].wyId.iloc[0]\n",
    "int_juv_events = inter_matches_events.query(\"matchId == \" + str(match_id))\n",
    "home_events = int_juv_events.query(\"teamId == \" + str(inter_id))\n",
    "away_events = int_juv_events.query(\"teamId != \" + str(inter_id))\n",
    "print(\"In Inter-Juventus there are\", home_events.shape[0], \"events associated to Inter\")\n",
    "print(\"In Inter-Juventus there are\", away_events.shape[0], \"events associated to Juventus\")"
   ]
  },
  {
   "cell_type": "code",
   "execution_count": 37,
   "metadata": {
    "colab": {
     "base_uri": "https://localhost:8080/",
     "height": 237
    },
    "colab_type": "code",
    "executionInfo": {
     "elapsed": 22668,
     "status": "ok",
     "timestamp": 1588367993421,
     "user": {
      "displayName": "Gabriele Nocco",
      "photoUrl": "https://lh3.googleusercontent.com/a-/AOh14GgDkDwKr9btQgwGH_3koACmvsa3ngzqTRmAQC5P=s64",
      "userId": "03129285342036639471"
     },
     "user_tz": -120
    },
    "id": "UXhVbyzO7WQt",
    "outputId": "402ed0b8-4980-443d-f7ee-f41402f6e020"
   },
   "outputs": [
    {
     "name": "stdout",
     "output_type": "stream",
     "text": [
      "For every event we have these informations\n"
     ]
    },
    {
     "data": {
      "text/plain": [
       "eventId           int64\n",
       "eventName        object\n",
       "eventSec        float64\n",
       "id                int64\n",
       "matchId           int64\n",
       "matchPeriod      object\n",
       "playerId          int64\n",
       "subEventId       object\n",
       "subEventName     object\n",
       "teamId            int64\n",
       "x_start           int64\n",
       "y_start           int64\n",
       "x_end            object\n",
       "y_end            object\n",
       "tags             object\n",
       "dtype: object"
      ]
     },
     "execution_count": 37,
     "metadata": {},
     "output_type": "execute_result"
    }
   ],
   "source": [
    "print(\"For every event we have these informations\")\n",
    "inter_matches_events.dtypes"
   ]
  },
  {
   "cell_type": "markdown",
   "metadata": {},
   "source": [
    "**EXPORT USEFUL DATA FOR NEXT ANALYSIS IN CSV FILE**"
   ]
  },
  {
   "cell_type": "code",
   "execution_count": 38,
   "metadata": {},
   "outputs": [],
   "source": [
    "inter_matches_events.to_csv(os.path.join(path, \"inter_matches_events.csv\"), index_label=False)"
   ]
  }
 ],
 "metadata": {
  "colab": {
   "name": "1 - wyscout data.ipynb",
   "provenance": [],
   "toc_visible": true
  },
  "kernelspec": {
   "display_name": "Python 3",
   "language": "python",
   "name": "python3"
  },
  "language_info": {
   "codemirror_mode": {
    "name": "ipython",
    "version": 3
   },
   "file_extension": ".py",
   "mimetype": "text/x-python",
   "name": "python",
   "nbconvert_exporter": "python",
   "pygments_lexer": "ipython3",
   "version": "3.7.3"
  }
 },
 "nbformat": 4,
 "nbformat_minor": 1
}
