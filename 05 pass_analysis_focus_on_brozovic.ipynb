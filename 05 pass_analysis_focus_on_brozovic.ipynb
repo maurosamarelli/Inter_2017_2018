{
 "cells": [
  {
   "cell_type": "markdown",
   "metadata": {
    "colab_type": "text",
    "id": "tRfrkIOiOHZF"
   },
   "source": [
    "# Wyscout Data for Inter 2017-18\n",
    "\n",
    "In this notebooks we will learn to work with [Wyscout](https://wyscout.com/) data and to extract useful information for the tactical point of view.\n",
    "\n",
    "For this course we will use che [Player Rank](https://github.com/mesosbrodleto/playerank) open source project owned by Pappalardo Luca, Cintia Paolo & Co."
   ]
  },
  {
   "cell_type": "markdown",
   "metadata": {
    "colab_type": "text",
    "id": "WApdiBe36HUl"
   },
   "source": [
    "## utilities"
   ]
  },
  {
   "cell_type": "code",
   "execution_count": 1,
   "metadata": {},
   "outputs": [],
   "source": [
    "import os\n",
    "import numpy as np\n",
    "import pandas as pd\n",
    "import matplotlib.pyplot as plt\n",
    "from pandas.io.json import json_normalize\n",
    "import util\n",
    "path = \"C:/Users/Mauro/OneDrive/Documenti/Football/Inter_2017_2018\"\n",
    "inter_id = 3161"
   ]
  },
  {
   "cell_type": "markdown",
   "metadata": {},
   "source": [
    "**COUNT TOTAL PASSES FOR EACH PLAYER IN EACH MATCH**"
   ]
  },
  {
   "cell_type": "code",
   "execution_count": 2,
   "metadata": {},
   "outputs": [
    {
     "data": {
      "text/html": [
       "<div>\n",
       "<style scoped>\n",
       "    .dataframe tbody tr th:only-of-type {\n",
       "        vertical-align: middle;\n",
       "    }\n",
       "\n",
       "    .dataframe tbody tr th {\n",
       "        vertical-align: top;\n",
       "    }\n",
       "\n",
       "    .dataframe thead th {\n",
       "        text-align: right;\n",
       "    }\n",
       "</style>\n",
       "<table border=\"1\" class=\"dataframe\">\n",
       "  <thead>\n",
       "    <tr style=\"text-align: right;\">\n",
       "      <th></th>\n",
       "      <th>matchId</th>\n",
       "      <th>playerId</th>\n",
       "    </tr>\n",
       "  </thead>\n",
       "  <tbody>\n",
       "    <tr>\n",
       "      <th>5</th>\n",
       "      <td>2575963</td>\n",
       "      <td>20517</td>\n",
       "    </tr>\n",
       "    <tr>\n",
       "      <th>15</th>\n",
       "      <td>2575963</td>\n",
       "      <td>116349</td>\n",
       "    </tr>\n",
       "    <tr>\n",
       "      <th>16</th>\n",
       "      <td>2575963</td>\n",
       "      <td>20556</td>\n",
       "    </tr>\n",
       "  </tbody>\n",
       "</table>\n",
       "</div>"
      ],
      "text/plain": [
       "    matchId  playerId\n",
       "5   2575963     20517\n",
       "15  2575963    116349\n",
       "16  2575963     20556"
      ]
     },
     "execution_count": 2,
     "metadata": {},
     "output_type": "execute_result"
    }
   ],
   "source": [
    "inter_matches_events = pd.read_csv(os.path.join(path, \"inter_matches_events.csv\"))\n",
    "#filter by pass event (eventId == 8) and team associated to the event (teamId == 3161, which is inter_id)\n",
    "#get column referred to match (matchId) and player (playerId)\n",
    "total_passes = inter_matches_events.query(\"eventId == 8 and teamId == 3161\")[['matchId', 'playerId']]\n",
    "total_passes.head(3)"
   ]
  },
  {
   "cell_type": "code",
   "execution_count": 3,
   "metadata": {},
   "outputs": [
    {
     "data": {
      "text/html": [
       "<div>\n",
       "<style scoped>\n",
       "    .dataframe tbody tr th:only-of-type {\n",
       "        vertical-align: middle;\n",
       "    }\n",
       "\n",
       "    .dataframe tbody tr th {\n",
       "        vertical-align: top;\n",
       "    }\n",
       "\n",
       "    .dataframe thead th {\n",
       "        text-align: right;\n",
       "    }\n",
       "</style>\n",
       "<table border=\"1\" class=\"dataframe\">\n",
       "  <thead>\n",
       "    <tr style=\"text-align: right;\">\n",
       "      <th></th>\n",
       "      <th>playerId</th>\n",
       "      <th>matchId</th>\n",
       "      <th>#passes</th>\n",
       "    </tr>\n",
       "  </thead>\n",
       "  <tbody>\n",
       "    <tr>\n",
       "      <th>0</th>\n",
       "      <td>3344</td>\n",
       "      <td>2576174</td>\n",
       "      <td>1</td>\n",
       "    </tr>\n",
       "    <tr>\n",
       "      <th>1</th>\n",
       "      <td>3344</td>\n",
       "      <td>2576180</td>\n",
       "      <td>27</td>\n",
       "    </tr>\n",
       "    <tr>\n",
       "      <th>2</th>\n",
       "      <td>3344</td>\n",
       "      <td>2576191</td>\n",
       "      <td>26</td>\n",
       "    </tr>\n",
       "  </tbody>\n",
       "</table>\n",
       "</div>"
      ],
      "text/plain": [
       "   playerId  matchId  #passes\n",
       "0      3344  2576174        1\n",
       "1      3344  2576180       27\n",
       "2      3344  2576191       26"
      ]
     },
     "execution_count": 3,
     "metadata": {},
     "output_type": "execute_result"
    }
   ],
   "source": [
    "#group the passes by playerId and matchId to obtain the count of passes for each player in each match\n",
    "total_passes = pd.DataFrame(total_passes.groupby(['playerId', 'matchId']).size()).reset_index()\n",
    "total_passes.columns = [\"playerId\", \"matchId\", \"#passes\"]\n",
    "total_passes.head(3)"
   ]
  },
  {
   "cell_type": "code",
   "execution_count": 4,
   "metadata": {},
   "outputs": [
    {
     "data": {
      "text/html": [
       "<div>\n",
       "<style scoped>\n",
       "    .dataframe tbody tr th:only-of-type {\n",
       "        vertical-align: middle;\n",
       "    }\n",
       "\n",
       "    .dataframe tbody tr th {\n",
       "        vertical-align: top;\n",
       "    }\n",
       "\n",
       "    .dataframe thead th {\n",
       "        text-align: right;\n",
       "    }\n",
       "</style>\n",
       "<table border=\"1\" class=\"dataframe\">\n",
       "  <thead>\n",
       "    <tr style=\"text-align: right;\">\n",
       "      <th></th>\n",
       "      <th>playerId</th>\n",
       "      <th>role_name</th>\n",
       "      <th>shortName</th>\n",
       "      <th>matchId</th>\n",
       "      <th>#passes</th>\n",
       "    </tr>\n",
       "  </thead>\n",
       "  <tbody>\n",
       "    <tr>\n",
       "      <th>0</th>\n",
       "      <td>3344</td>\n",
       "      <td>Midfielder</td>\n",
       "      <td>Rafinha</td>\n",
       "      <td>2576174</td>\n",
       "      <td>1</td>\n",
       "    </tr>\n",
       "    <tr>\n",
       "      <th>1</th>\n",
       "      <td>3344</td>\n",
       "      <td>Midfielder</td>\n",
       "      <td>Rafinha</td>\n",
       "      <td>2576180</td>\n",
       "      <td>27</td>\n",
       "    </tr>\n",
       "    <tr>\n",
       "      <th>2</th>\n",
       "      <td>3344</td>\n",
       "      <td>Midfielder</td>\n",
       "      <td>Rafinha</td>\n",
       "      <td>2576191</td>\n",
       "      <td>26</td>\n",
       "    </tr>\n",
       "  </tbody>\n",
       "</table>\n",
       "</div>"
      ],
      "text/plain": [
       "   playerId   role_name shortName  matchId  #passes\n",
       "0      3344  Midfielder   Rafinha  2576174        1\n",
       "1      3344  Midfielder   Rafinha  2576180       27\n",
       "2      3344  Midfielder   Rafinha  2576191       26"
      ]
     },
     "execution_count": 4,
     "metadata": {},
     "output_type": "execute_result"
    }
   ],
   "source": [
    "#merge the count of passes with players data to obtain the players' name and the players' role\n",
    "inter_players = pd.read_csv(os.path.join(path, \"inter_players.csv\"))\n",
    "total_passes = pd.merge(total_passes, inter_players, how=\"left\", left_on=\"playerId\", right_on=\"wyId\")[[\"playerId\", \"role_name\", \"shortName\", \"matchId\", \"#passes\"]]\n",
    "total_passes.head(3)"
   ]
  },
  {
   "cell_type": "code",
   "execution_count": 5,
   "metadata": {},
   "outputs": [
    {
     "data": {
      "text/html": [
       "<div>\n",
       "<style scoped>\n",
       "    .dataframe tbody tr th:only-of-type {\n",
       "        vertical-align: middle;\n",
       "    }\n",
       "\n",
       "    .dataframe tbody tr th {\n",
       "        vertical-align: top;\n",
       "    }\n",
       "\n",
       "    .dataframe thead th {\n",
       "        text-align: right;\n",
       "    }\n",
       "</style>\n",
       "<table border=\"1\" class=\"dataframe\">\n",
       "  <thead>\n",
       "    <tr style=\"text-align: right;\">\n",
       "      <th></th>\n",
       "      <th>playerId</th>\n",
       "      <th>role_name</th>\n",
       "      <th>shortName</th>\n",
       "      <th>matchId</th>\n",
       "      <th>gameweek</th>\n",
       "      <th>label</th>\n",
       "      <th>#passes</th>\n",
       "    </tr>\n",
       "  </thead>\n",
       "  <tbody>\n",
       "    <tr>\n",
       "      <th>0</th>\n",
       "      <td>3344</td>\n",
       "      <td>Midfielder</td>\n",
       "      <td>Rafinha</td>\n",
       "      <td>2576174</td>\n",
       "      <td>22</td>\n",
       "      <td>SPAL - Internazionale, 1 - 1</td>\n",
       "      <td>1</td>\n",
       "    </tr>\n",
       "    <tr>\n",
       "      <th>1</th>\n",
       "      <td>3344</td>\n",
       "      <td>Midfielder</td>\n",
       "      <td>Rafinha</td>\n",
       "      <td>2576180</td>\n",
       "      <td>23</td>\n",
       "      <td>Internazionale - Crotone, 1 - 1</td>\n",
       "      <td>27</td>\n",
       "    </tr>\n",
       "    <tr>\n",
       "      <th>2</th>\n",
       "      <td>3344</td>\n",
       "      <td>Midfielder</td>\n",
       "      <td>Rafinha</td>\n",
       "      <td>2576191</td>\n",
       "      <td>24</td>\n",
       "      <td>Internazionale - Bologna, 2 - 1</td>\n",
       "      <td>26</td>\n",
       "    </tr>\n",
       "  </tbody>\n",
       "</table>\n",
       "</div>"
      ],
      "text/plain": [
       "   playerId   role_name shortName  matchId  gameweek  \\\n",
       "0      3344  Midfielder   Rafinha  2576174        22   \n",
       "1      3344  Midfielder   Rafinha  2576180        23   \n",
       "2      3344  Midfielder   Rafinha  2576191        24   \n",
       "\n",
       "                             label  #passes  \n",
       "0     SPAL - Internazionale, 1 - 1        1  \n",
       "1  Internazionale - Crotone, 1 - 1       27  \n",
       "2  Internazionale - Bologna, 2 - 1       26  "
      ]
     },
     "execution_count": 5,
     "metadata": {},
     "output_type": "execute_result"
    }
   ],
   "source": [
    "#merge the count of passes with matches data to obtain the matches' gameweek and the matches' label\n",
    "inter_matches = pd.read_csv(os.path.join(path, \"inter_matches.csv\"))\n",
    "total_passes = pd.merge(total_passes, inter_matches, how=\"left\", left_on=\"matchId\", right_on=\"wyId\")[[\"playerId\", \"role_name\", \"shortName\", \"matchId\", \"gameweek\", \"label\", \"#passes\"]]\n",
    "total_passes.head(3)"
   ]
  },
  {
   "cell_type": "markdown",
   "metadata": {},
   "source": [
    "**FOCUS ON BROZOVIC PASS PERFORMANCE**"
   ]
  },
  {
   "cell_type": "code",
   "execution_count": 6,
   "metadata": {},
   "outputs": [
    {
     "data": {
      "text/html": [
       "<div>\n",
       "<style scoped>\n",
       "    .dataframe tbody tr th:only-of-type {\n",
       "        vertical-align: middle;\n",
       "    }\n",
       "\n",
       "    .dataframe tbody tr th {\n",
       "        vertical-align: top;\n",
       "    }\n",
       "\n",
       "    .dataframe thead th {\n",
       "        text-align: right;\n",
       "    }\n",
       "</style>\n",
       "<table border=\"1\" class=\"dataframe\">\n",
       "  <thead>\n",
       "    <tr style=\"text-align: right;\">\n",
       "      <th></th>\n",
       "      <th>wyId</th>\n",
       "      <th>role_name</th>\n",
       "      <th>shortName</th>\n",
       "    </tr>\n",
       "  </thead>\n",
       "  <tbody>\n",
       "    <tr>\n",
       "      <th>21</th>\n",
       "      <td>69968</td>\n",
       "      <td>Midfielder</td>\n",
       "      <td>M. Brozović</td>\n",
       "    </tr>\n",
       "  </tbody>\n",
       "</table>\n",
       "</div>"
      ],
      "text/plain": [
       "     wyId   role_name    shortName\n",
       "21  69968  Midfielder  M. Brozović"
      ]
     },
     "execution_count": 6,
     "metadata": {},
     "output_type": "execute_result"
    }
   ],
   "source": [
    "brozovic = inter_players[inter_players.shortName.str.contains(\"Brozo\")]\n",
    "brozovic"
   ]
  },
  {
   "cell_type": "code",
   "execution_count": 7,
   "metadata": {},
   "outputs": [
    {
     "data": {
      "text/html": [
       "<div>\n",
       "<style scoped>\n",
       "    .dataframe tbody tr th:only-of-type {\n",
       "        vertical-align: middle;\n",
       "    }\n",
       "\n",
       "    .dataframe tbody tr th {\n",
       "        vertical-align: top;\n",
       "    }\n",
       "\n",
       "    .dataframe thead th {\n",
       "        text-align: right;\n",
       "    }\n",
       "</style>\n",
       "<table border=\"1\" class=\"dataframe\">\n",
       "  <thead>\n",
       "    <tr style=\"text-align: right;\">\n",
       "      <th></th>\n",
       "      <th>playerId</th>\n",
       "      <th>role_name</th>\n",
       "      <th>shortName</th>\n",
       "      <th>matchId</th>\n",
       "      <th>gameweek</th>\n",
       "      <th>label</th>\n",
       "      <th>#passes</th>\n",
       "    </tr>\n",
       "  </thead>\n",
       "  <tbody>\n",
       "    <tr>\n",
       "      <th>311</th>\n",
       "      <td>69968</td>\n",
       "      <td>Midfielder</td>\n",
       "      <td>M. Brozović</td>\n",
       "      <td>2576234</td>\n",
       "      <td>28</td>\n",
       "      <td>Internazionale - Napoli, 0 - 0</td>\n",
       "      <td>57</td>\n",
       "    </tr>\n",
       "  </tbody>\n",
       "</table>\n",
       "</div>"
      ],
      "text/plain": [
       "     playerId   role_name    shortName  matchId  gameweek  \\\n",
       "311     69968  Midfielder  M. Brozović  2576234        28   \n",
       "\n",
       "                              label  #passes  \n",
       "311  Internazionale - Napoli, 0 - 0       57  "
      ]
     },
     "execution_count": 7,
     "metadata": {},
     "output_type": "execute_result"
    }
   ],
   "source": [
    "match_id = inter_matches[inter_matches.label.str.contains(\" - Napoli\")].wyId.iloc[0]\n",
    "total_passes.query(\"playerId == \" + str(brozovic.wyId.iloc[0]) + \" and matchId == \" + str(match_id))"
   ]
  },
  {
   "cell_type": "markdown",
   "metadata": {},
   "source": [
    "**BROZOVIC NUMBER OF PASS EVOLUTION DURING THE SEASON (COMPARED WITH BORJA VALERO)**"
   ]
  },
  {
   "cell_type": "code",
   "execution_count": 8,
   "metadata": {},
   "outputs": [
    {
     "data": {
      "image/png": "[encoded data removed]",
      "text/plain": [
       "<Figure size 1440x576 with 1 Axes>"
      ]
     },
     "metadata": {
      "needs_background": "light"
     },
     "output_type": "display_data"
    }
   ],
   "source": [
    "plt.figure(figsize=(20, 8))\n",
    "players_to_compare = [\"M. Brozović\", \"Borja Valero\"]\n",
    "group = total_passes.query(\"shortName in \" + str(players_to_compare))\n",
    "for p in group.shortName.unique():\n",
    "    df = group[group.shortName == p].sort_values(by=\"gameweek\", ascending=True)\n",
    "    df = df.reset_index(drop=True)\n",
    "    plt.plot(df.gameweek, df[\"#passes\"])\n",
    "    plt.scatter(df.gameweek, df[\"#passes\"])\n",
    "plt.title(\"2017-2018\")\n",
    "plt.xlabel(\"gameweek\")\n",
    "plt.ylabel(\"number of passes\")\n",
    "plt.legend(group.shortName.unique())\n",
    "plt.show()"
   ]
  },
  {
   "cell_type": "markdown",
   "metadata": {},
   "source": [
    "**CALCULATE PASS ACCURACY FOR EACH PLAYER IN EACH MATCH**"
   ]
  },
  {
   "cell_type": "code",
   "execution_count": 9,
   "metadata": {},
   "outputs": [
    {
     "data": {
      "text/html": [
       "<div>\n",
       "<style scoped>\n",
       "    .dataframe tbody tr th:only-of-type {\n",
       "        vertical-align: middle;\n",
       "    }\n",
       "\n",
       "    .dataframe tbody tr th {\n",
       "        vertical-align: top;\n",
       "    }\n",
       "\n",
       "    .dataframe thead th {\n",
       "        text-align: right;\n",
       "    }\n",
       "</style>\n",
       "<table border=\"1\" class=\"dataframe\">\n",
       "  <thead>\n",
       "    <tr style=\"text-align: right;\">\n",
       "      <th></th>\n",
       "      <th>matchId</th>\n",
       "      <th>playerId</th>\n",
       "      <th>positive</th>\n",
       "    </tr>\n",
       "  </thead>\n",
       "  <tbody>\n",
       "    <tr>\n",
       "      <th>0</th>\n",
       "      <td>2575963</td>\n",
       "      <td>20517</td>\n",
       "      <td>yes</td>\n",
       "    </tr>\n",
       "    <tr>\n",
       "      <th>1</th>\n",
       "      <td>2575963</td>\n",
       "      <td>116349</td>\n",
       "      <td>yes</td>\n",
       "    </tr>\n",
       "    <tr>\n",
       "      <th>2</th>\n",
       "      <td>2575963</td>\n",
       "      <td>20556</td>\n",
       "      <td>yes</td>\n",
       "    </tr>\n",
       "  </tbody>\n",
       "</table>\n",
       "</div>"
      ],
      "text/plain": [
       "   matchId  playerId positive\n",
       "0  2575963     20517      yes\n",
       "1  2575963    116349      yes\n",
       "2  2575963     20556      yes"
      ]
     },
     "execution_count": 9,
     "metadata": {},
     "output_type": "execute_result"
    }
   ],
   "source": [
    "##filter by pass event (eventId == 8) and team associated to the event (teamId == 3161, which is inter_id)\n",
    "positive_passes = inter_matches_events.query(\"eventId == 8 and teamId == 3161\")\n",
    "#assign a label positive=\"yes\" for each accurate pass (which has 1801 in tags)\n",
    "#get columns referred to match (matchId), player (playerId) and label of the pass' outcome\n",
    "positive_passes = util.label_positive_passes(positive_passes, \"tags\")[['matchId', 'playerId', 'positive']]\n",
    "positive_passes.head(3)"
   ]
  },
  {
   "cell_type": "code",
   "execution_count": 10,
   "metadata": {},
   "outputs": [
    {
     "data": {
      "text/html": [
       "<div>\n",
       "<style scoped>\n",
       "    .dataframe tbody tr th:only-of-type {\n",
       "        vertical-align: middle;\n",
       "    }\n",
       "\n",
       "    .dataframe tbody tr th {\n",
       "        vertical-align: top;\n",
       "    }\n",
       "\n",
       "    .dataframe thead th {\n",
       "        text-align: right;\n",
       "    }\n",
       "</style>\n",
       "<table border=\"1\" class=\"dataframe\">\n",
       "  <thead>\n",
       "    <tr style=\"text-align: right;\">\n",
       "      <th></th>\n",
       "      <th>playerId</th>\n",
       "      <th>matchId</th>\n",
       "      <th>#positive_passes</th>\n",
       "    </tr>\n",
       "  </thead>\n",
       "  <tbody>\n",
       "    <tr>\n",
       "      <th>0</th>\n",
       "      <td>3344</td>\n",
       "      <td>2576174</td>\n",
       "      <td>1</td>\n",
       "    </tr>\n",
       "    <tr>\n",
       "      <th>1</th>\n",
       "      <td>3344</td>\n",
       "      <td>2576180</td>\n",
       "      <td>26</td>\n",
       "    </tr>\n",
       "    <tr>\n",
       "      <th>2</th>\n",
       "      <td>3344</td>\n",
       "      <td>2576191</td>\n",
       "      <td>23</td>\n",
       "    </tr>\n",
       "  </tbody>\n",
       "</table>\n",
       "</div>"
      ],
      "text/plain": [
       "   playerId  matchId  #positive_passes\n",
       "0      3344  2576174                 1\n",
       "1      3344  2576180                26\n",
       "2      3344  2576191                23"
      ]
     },
     "execution_count": 10,
     "metadata": {},
     "output_type": "execute_result"
    }
   ],
   "source": [
    "#filter to keep only accurated pass\n",
    "positive_passes = positive_passes.query(\"positive == 'yes'\")\n",
    "#group accurated pass by match and player to obtain the count of accurated pass for each player in each match\n",
    "positive_passes = pd.DataFrame(positive_passes.groupby(['playerId', 'matchId', 'positive']).size()).reset_index()\n",
    "positive_passes.drop(\"positive\", axis=1, inplace=True)\n",
    "positive_passes.columns = [\"playerId\", \"matchId\", \"#positive_passes\"]\n",
    "positive_passes.head(3)"
   ]
  },
  {
   "cell_type": "code",
   "execution_count": 11,
   "metadata": {},
   "outputs": [
    {
     "data": {
      "text/html": [
       "<div>\n",
       "<style scoped>\n",
       "    .dataframe tbody tr th:only-of-type {\n",
       "        vertical-align: middle;\n",
       "    }\n",
       "\n",
       "    .dataframe tbody tr th {\n",
       "        vertical-align: top;\n",
       "    }\n",
       "\n",
       "    .dataframe thead th {\n",
       "        text-align: right;\n",
       "    }\n",
       "</style>\n",
       "<table border=\"1\" class=\"dataframe\">\n",
       "  <thead>\n",
       "    <tr style=\"text-align: right;\">\n",
       "      <th></th>\n",
       "      <th>playerId</th>\n",
       "      <th>role_name</th>\n",
       "      <th>shortName</th>\n",
       "      <th>matchId</th>\n",
       "      <th>#positive_passes</th>\n",
       "    </tr>\n",
       "  </thead>\n",
       "  <tbody>\n",
       "    <tr>\n",
       "      <th>0</th>\n",
       "      <td>3344</td>\n",
       "      <td>Midfielder</td>\n",
       "      <td>Rafinha</td>\n",
       "      <td>2576174</td>\n",
       "      <td>1</td>\n",
       "    </tr>\n",
       "    <tr>\n",
       "      <th>1</th>\n",
       "      <td>3344</td>\n",
       "      <td>Midfielder</td>\n",
       "      <td>Rafinha</td>\n",
       "      <td>2576180</td>\n",
       "      <td>26</td>\n",
       "    </tr>\n",
       "    <tr>\n",
       "      <th>2</th>\n",
       "      <td>3344</td>\n",
       "      <td>Midfielder</td>\n",
       "      <td>Rafinha</td>\n",
       "      <td>2576191</td>\n",
       "      <td>23</td>\n",
       "    </tr>\n",
       "  </tbody>\n",
       "</table>\n",
       "</div>"
      ],
      "text/plain": [
       "   playerId   role_name shortName  matchId  #positive_passes\n",
       "0      3344  Midfielder   Rafinha  2576174                 1\n",
       "1      3344  Midfielder   Rafinha  2576180                26\n",
       "2      3344  Midfielder   Rafinha  2576191                23"
      ]
     },
     "execution_count": 11,
     "metadata": {},
     "output_type": "execute_result"
    }
   ],
   "source": [
    "#merge with players' data to obtain players' name and players' role\n",
    "positive_passes = pd.merge(positive_passes, inter_players, how=\"left\", left_on=\"playerId\", right_on=\"wyId\")[[\"playerId\", \"role_name\", \"shortName\", \"matchId\", \"#positive_passes\"]]\n",
    "positive_passes.head(3)"
   ]
  },
  {
   "cell_type": "code",
   "execution_count": 12,
   "metadata": {},
   "outputs": [
    {
     "data": {
      "text/html": [
       "<div>\n",
       "<style scoped>\n",
       "    .dataframe tbody tr th:only-of-type {\n",
       "        vertical-align: middle;\n",
       "    }\n",
       "\n",
       "    .dataframe tbody tr th {\n",
       "        vertical-align: top;\n",
       "    }\n",
       "\n",
       "    .dataframe thead th {\n",
       "        text-align: right;\n",
       "    }\n",
       "</style>\n",
       "<table border=\"1\" class=\"dataframe\">\n",
       "  <thead>\n",
       "    <tr style=\"text-align: right;\">\n",
       "      <th></th>\n",
       "      <th>playerId</th>\n",
       "      <th>role_name</th>\n",
       "      <th>shortName</th>\n",
       "      <th>matchId</th>\n",
       "      <th>gameweek</th>\n",
       "      <th>label</th>\n",
       "      <th>#positive_passes</th>\n",
       "    </tr>\n",
       "  </thead>\n",
       "  <tbody>\n",
       "    <tr>\n",
       "      <th>0</th>\n",
       "      <td>3344</td>\n",
       "      <td>Midfielder</td>\n",
       "      <td>Rafinha</td>\n",
       "      <td>2576174</td>\n",
       "      <td>22</td>\n",
       "      <td>SPAL - Internazionale, 1 - 1</td>\n",
       "      <td>1</td>\n",
       "    </tr>\n",
       "    <tr>\n",
       "      <th>1</th>\n",
       "      <td>3344</td>\n",
       "      <td>Midfielder</td>\n",
       "      <td>Rafinha</td>\n",
       "      <td>2576180</td>\n",
       "      <td>23</td>\n",
       "      <td>Internazionale - Crotone, 1 - 1</td>\n",
       "      <td>26</td>\n",
       "    </tr>\n",
       "    <tr>\n",
       "      <th>2</th>\n",
       "      <td>3344</td>\n",
       "      <td>Midfielder</td>\n",
       "      <td>Rafinha</td>\n",
       "      <td>2576191</td>\n",
       "      <td>24</td>\n",
       "      <td>Internazionale - Bologna, 2 - 1</td>\n",
       "      <td>23</td>\n",
       "    </tr>\n",
       "  </tbody>\n",
       "</table>\n",
       "</div>"
      ],
      "text/plain": [
       "   playerId   role_name shortName  matchId  gameweek  \\\n",
       "0      3344  Midfielder   Rafinha  2576174        22   \n",
       "1      3344  Midfielder   Rafinha  2576180        23   \n",
       "2      3344  Midfielder   Rafinha  2576191        24   \n",
       "\n",
       "                             label  #positive_passes  \n",
       "0     SPAL - Internazionale, 1 - 1                 1  \n",
       "1  Internazionale - Crotone, 1 - 1                26  \n",
       "2  Internazionale - Bologna, 2 - 1                23  "
      ]
     },
     "execution_count": 12,
     "metadata": {},
     "output_type": "execute_result"
    }
   ],
   "source": [
    "#merge with matches' data to obtain matches' gameweek and matches' label\n",
    "positive_passes = pd.merge(positive_passes, inter_matches, how=\"left\", left_on=\"matchId\", right_on=\"wyId\")[[\"playerId\", \"role_name\", \"shortName\", \"matchId\", \"gameweek\", \"label\", \"#positive_passes\"]]\n",
    "positive_passes.head(3)"
   ]
  },
  {
   "cell_type": "code",
   "execution_count": 13,
   "metadata": {},
   "outputs": [
    {
     "data": {
      "text/html": [
       "<div>\n",
       "<style scoped>\n",
       "    .dataframe tbody tr th:only-of-type {\n",
       "        vertical-align: middle;\n",
       "    }\n",
       "\n",
       "    .dataframe tbody tr th {\n",
       "        vertical-align: top;\n",
       "    }\n",
       "\n",
       "    .dataframe thead th {\n",
       "        text-align: right;\n",
       "    }\n",
       "</style>\n",
       "<table border=\"1\" class=\"dataframe\">\n",
       "  <thead>\n",
       "    <tr style=\"text-align: right;\">\n",
       "      <th></th>\n",
       "      <th>playerId</th>\n",
       "      <th>role_name_x</th>\n",
       "      <th>shortName_x</th>\n",
       "      <th>matchId</th>\n",
       "      <th>gameweek_x</th>\n",
       "      <th>label_x</th>\n",
       "      <th>#positive_passes</th>\n",
       "      <th>#passes</th>\n",
       "    </tr>\n",
       "  </thead>\n",
       "  <tbody>\n",
       "    <tr>\n",
       "      <th>0</th>\n",
       "      <td>3344</td>\n",
       "      <td>Midfielder</td>\n",
       "      <td>Rafinha</td>\n",
       "      <td>2576174</td>\n",
       "      <td>22</td>\n",
       "      <td>SPAL - Internazionale, 1 - 1</td>\n",
       "      <td>1.0</td>\n",
       "      <td>1</td>\n",
       "    </tr>\n",
       "    <tr>\n",
       "      <th>1</th>\n",
       "      <td>3344</td>\n",
       "      <td>Midfielder</td>\n",
       "      <td>Rafinha</td>\n",
       "      <td>2576180</td>\n",
       "      <td>23</td>\n",
       "      <td>Internazionale - Crotone, 1 - 1</td>\n",
       "      <td>26.0</td>\n",
       "      <td>27</td>\n",
       "    </tr>\n",
       "    <tr>\n",
       "      <th>2</th>\n",
       "      <td>3344</td>\n",
       "      <td>Midfielder</td>\n",
       "      <td>Rafinha</td>\n",
       "      <td>2576191</td>\n",
       "      <td>24</td>\n",
       "      <td>Internazionale - Bologna, 2 - 1</td>\n",
       "      <td>23.0</td>\n",
       "      <td>26</td>\n",
       "    </tr>\n",
       "  </tbody>\n",
       "</table>\n",
       "</div>"
      ],
      "text/plain": [
       "   playerId role_name_x shortName_x  matchId  gameweek_x  \\\n",
       "0      3344  Midfielder     Rafinha  2576174          22   \n",
       "1      3344  Midfielder     Rafinha  2576180          23   \n",
       "2      3344  Midfielder     Rafinha  2576191          24   \n",
       "\n",
       "                           label_x  #positive_passes  #passes  \n",
       "0     SPAL - Internazionale, 1 - 1               1.0        1  \n",
       "1  Internazionale - Crotone, 1 - 1              26.0       27  \n",
       "2  Internazionale - Bologna, 2 - 1              23.0       26  "
      ]
     },
     "execution_count": 13,
     "metadata": {},
     "output_type": "execute_result"
    }
   ],
   "source": [
    "#merge with count of total passes data \n",
    "positive_passes = pd.merge(total_passes, positive_passes, how=\"left\", left_on=[\"matchId\", \"playerId\"], right_on=[\"matchId\", \"playerId\"])[[\"playerId\", \"role_name_x\", \"shortName_x\", \"matchId\", \"gameweek_x\", \"label_x\", \"#positive_passes\", \"#passes\"]]\n",
    "positive_passes.head(3)"
   ]
  },
  {
   "cell_type": "code",
   "execution_count": 14,
   "metadata": {},
   "outputs": [
    {
     "data": {
      "text/html": [
       "<div>\n",
       "<style scoped>\n",
       "    .dataframe tbody tr th:only-of-type {\n",
       "        vertical-align: middle;\n",
       "    }\n",
       "\n",
       "    .dataframe tbody tr th {\n",
       "        vertical-align: top;\n",
       "    }\n",
       "\n",
       "    .dataframe thead th {\n",
       "        text-align: right;\n",
       "    }\n",
       "</style>\n",
       "<table border=\"1\" class=\"dataframe\">\n",
       "  <thead>\n",
       "    <tr style=\"text-align: right;\">\n",
       "      <th></th>\n",
       "      <th>playerId</th>\n",
       "      <th>role_name_x</th>\n",
       "      <th>shortName_x</th>\n",
       "      <th>matchId</th>\n",
       "      <th>gameweek_x</th>\n",
       "      <th>label_x</th>\n",
       "      <th>#positive_passes</th>\n",
       "      <th>#passes</th>\n",
       "      <th>pass_accuracy</th>\n",
       "    </tr>\n",
       "  </thead>\n",
       "  <tbody>\n",
       "    <tr>\n",
       "      <th>0</th>\n",
       "      <td>3344</td>\n",
       "      <td>Midfielder</td>\n",
       "      <td>Rafinha</td>\n",
       "      <td>2576174</td>\n",
       "      <td>22</td>\n",
       "      <td>SPAL - Internazionale, 1 - 1</td>\n",
       "      <td>1.0</td>\n",
       "      <td>1</td>\n",
       "      <td>100.00</td>\n",
       "    </tr>\n",
       "    <tr>\n",
       "      <th>1</th>\n",
       "      <td>3344</td>\n",
       "      <td>Midfielder</td>\n",
       "      <td>Rafinha</td>\n",
       "      <td>2576180</td>\n",
       "      <td>23</td>\n",
       "      <td>Internazionale - Crotone, 1 - 1</td>\n",
       "      <td>26.0</td>\n",
       "      <td>27</td>\n",
       "      <td>96.30</td>\n",
       "    </tr>\n",
       "    <tr>\n",
       "      <th>2</th>\n",
       "      <td>3344</td>\n",
       "      <td>Midfielder</td>\n",
       "      <td>Rafinha</td>\n",
       "      <td>2576191</td>\n",
       "      <td>24</td>\n",
       "      <td>Internazionale - Bologna, 2 - 1</td>\n",
       "      <td>23.0</td>\n",
       "      <td>26</td>\n",
       "      <td>88.46</td>\n",
       "    </tr>\n",
       "  </tbody>\n",
       "</table>\n",
       "</div>"
      ],
      "text/plain": [
       "   playerId role_name_x shortName_x  matchId  gameweek_x  \\\n",
       "0      3344  Midfielder     Rafinha  2576174          22   \n",
       "1      3344  Midfielder     Rafinha  2576180          23   \n",
       "2      3344  Midfielder     Rafinha  2576191          24   \n",
       "\n",
       "                           label_x  #positive_passes  #passes  pass_accuracy  \n",
       "0     SPAL - Internazionale, 1 - 1               1.0        1         100.00  \n",
       "1  Internazionale - Crotone, 1 - 1              26.0       27          96.30  \n",
       "2  Internazionale - Bologna, 2 - 1              23.0       26          88.46  "
      ]
     },
     "execution_count": 14,
     "metadata": {},
     "output_type": "execute_result"
    }
   ],
   "source": [
    "#calculate pass accuracy dividing count of accurated passes by count of total passes\n",
    "positive_passes['pass_accuracy'] = round((positive_passes[\"#positive_passes\"] / positive_passes[\"#passes\"]) * 100, 2)\n",
    "positive_passes.head(3)"
   ]
  },
  {
   "cell_type": "markdown",
   "metadata": {},
   "source": [
    "**FOCUS ON BROZOVIC PASS PERFORMANCE**"
   ]
  },
  {
   "cell_type": "code",
   "execution_count": 15,
   "metadata": {},
   "outputs": [
    {
     "data": {
      "text/html": [
       "<div>\n",
       "<style scoped>\n",
       "    .dataframe tbody tr th:only-of-type {\n",
       "        vertical-align: middle;\n",
       "    }\n",
       "\n",
       "    .dataframe tbody tr th {\n",
       "        vertical-align: top;\n",
       "    }\n",
       "\n",
       "    .dataframe thead th {\n",
       "        text-align: right;\n",
       "    }\n",
       "</style>\n",
       "<table border=\"1\" class=\"dataframe\">\n",
       "  <thead>\n",
       "    <tr style=\"text-align: right;\">\n",
       "      <th></th>\n",
       "      <th>playerId</th>\n",
       "      <th>role_name_x</th>\n",
       "      <th>shortName_x</th>\n",
       "      <th>matchId</th>\n",
       "      <th>gameweek_x</th>\n",
       "      <th>label_x</th>\n",
       "      <th>#positive_passes</th>\n",
       "      <th>#passes</th>\n",
       "      <th>pass_accuracy</th>\n",
       "    </tr>\n",
       "  </thead>\n",
       "  <tbody>\n",
       "    <tr>\n",
       "      <th>311</th>\n",
       "      <td>69968</td>\n",
       "      <td>Midfielder</td>\n",
       "      <td>M. Brozović</td>\n",
       "      <td>2576234</td>\n",
       "      <td>28</td>\n",
       "      <td>Internazionale - Napoli, 0 - 0</td>\n",
       "      <td>50.0</td>\n",
       "      <td>57</td>\n",
       "      <td>87.72</td>\n",
       "    </tr>\n",
       "  </tbody>\n",
       "</table>\n",
       "</div>"
      ],
      "text/plain": [
       "     playerId role_name_x  shortName_x  matchId  gameweek_x  \\\n",
       "311     69968  Midfielder  M. Brozović  2576234          28   \n",
       "\n",
       "                            label_x  #positive_passes  #passes  pass_accuracy  \n",
       "311  Internazionale - Napoli, 0 - 0              50.0       57          87.72  "
      ]
     },
     "execution_count": 15,
     "metadata": {},
     "output_type": "execute_result"
    }
   ],
   "source": [
    "match_id = inter_matches[inter_matches.label.str.contains(\" - Napoli\")].wyId.iloc[0]\n",
    "positive_passes.query(\"playerId == \" + str(brozovic.wyId.iloc[0]) + \" and matchId == \" + str(match_id))"
   ]
  },
  {
   "cell_type": "markdown",
   "metadata": {},
   "source": [
    "**BROZOVIC PASS ACCURACY EVOLUTION DURING THE SEASON (COMPARED WITH BORJA VALERO)**"
   ]
  },
  {
   "cell_type": "code",
   "execution_count": 16,
   "metadata": {},
   "outputs": [
    {
     "data": {
      "image/png": "[encoded data removed]",
      "text/plain": [
       "<Figure size 1440x576 with 1 Axes>"
      ]
     },
     "metadata": {
      "needs_background": "light"
     },
     "output_type": "display_data"
    }
   ],
   "source": [
    "plt.figure(figsize=(20, 8))\n",
    "players_to_compare = [\"M. Brozović\", \"Borja Valero\",]\n",
    "group = positive_passes.query(\"shortName_x in \" + str(players_to_compare))\n",
    "for p in group.shortName_x.unique():\n",
    "    df = group[group.shortName_x == p].sort_values(by=\"gameweek_x\", ascending=True)\n",
    "    df = df.reset_index(drop=True)\n",
    "    plt.plot(df.gameweek_x, df[\"pass_accuracy\"])\n",
    "    plt.scatter(df.gameweek_x, df[\"pass_accuracy\"])\n",
    "plt.title(\"2017-2018\")\n",
    "plt.xlabel(\"gameweek\")\n",
    "plt.ylabel(\"pass accuracy\")\n",
    "plt.legend(group.shortName_x.unique())\n",
    "plt.show()"
   ]
  }
 ],
 "metadata": {
  "colab": {
   "name": "1 - wyscout data.ipynb",
   "provenance": [],
   "toc_visible": true
  },
  "kernelspec": {
   "display_name": "Python 3",
   "language": "python",
   "name": "python3"
  },
  "language_info": {
   "codemirror_mode": {
    "name": "ipython",
    "version": 3
   },
   "file_extension": ".py",
   "mimetype": "text/x-python",
   "name": "python",
   "nbconvert_exporter": "python",
   "pygments_lexer": "ipython3",
   "version": "3.7.3"
  }
 },
 "nbformat": 4,
 "nbformat_minor": 1
}
